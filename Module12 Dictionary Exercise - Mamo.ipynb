{
 "cells": [
  {
   "cell_type": "markdown",
   "metadata": {},
   "source": [
    "### Exercise 1. \n",
    "Create a dictionary named pairs with key value pairs of:\n",
    "    - 'hello' and 'fire', \n",
    "    - 3 and 'seven', \n",
    "    - 'strong' and 45. \n",
    "\n",
    "Then, print out the dictionary."
   ]
  },
  {
   "cell_type": "code",
   "execution_count": 1,
   "metadata": {},
   "outputs": [
    {
     "name": "stdout",
     "output_type": "stream",
     "text": [
      "{'hello': 'fire', 3: 'seven', 'strong': 45}\n"
     ]
    }
   ],
   "source": [
    "pairs ={\"hello\" : \"fire\",\n",
    "        3       : \"seven\",\n",
    "       \"strong\" : 45}\n",
    "\n",
    "print (pairs)"
   ]
  },
  {
   "cell_type": "markdown",
   "metadata": {},
   "source": [
    "### Exercise 2. \n",
    "Add 'welcome' and 56 pair into <b><i>pairs</i></b> dictionary from exercise 1. Then, print out the dictionary. "
   ]
  },
  {
   "cell_type": "code",
   "execution_count": 2,
   "metadata": {},
   "outputs": [
    {
     "name": "stdout",
     "output_type": "stream",
     "text": [
      "{'hello': 'fire', 3: 'seven', 'strong': 45, 'welcome': 56}\n"
     ]
    }
   ],
   "source": [
    "pairs[\"welcome\"] = 56\n",
    "print (pairs)"
   ]
  },
  {
   "cell_type": "markdown",
   "metadata": {},
   "source": [
    "### Exercise 3. \n",
    "Delete one item from <b><i>pairs</i></b> dictionary. Then, print deleted item and the dictionary."
   ]
  },
  {
   "cell_type": "code",
   "execution_count": 4,
   "metadata": {},
   "outputs": [
    {
     "name": "stdout",
     "output_type": "stream",
     "text": [
      "{'hello': 'fire', 3: 'seven', 'welcome': 56}\n"
     ]
    }
   ],
   "source": [
    "pairs.pop(\"strong\")\n",
    "print (pairs)"
   ]
  },
  {
   "cell_type": "markdown",
   "metadata": {},
   "source": [
    "### Exercise 4. \n",
    "Print the value of an item where key is 3 in <b><i>pairs</i></b> dicitonary"
   ]
  },
  {
   "cell_type": "code",
   "execution_count": 5,
   "metadata": {},
   "outputs": [
    {
     "name": "stdout",
     "output_type": "stream",
     "text": [
      "seven\n"
     ]
    }
   ],
   "source": [
    "print (pairs.get(3))"
   ]
  },
  {
   "cell_type": "markdown",
   "metadata": {},
   "source": [
    "### Exercise 5. \n",
    "Try to find out if the key called 'hello' exist in <b><i>pairs</i></b> dictionary. Print 'key is found' message if the key exists otherwise print 'key is not there'."
   ]
  },
  {
   "cell_type": "code",
   "execution_count": 14,
   "metadata": {},
   "outputs": [
    {
     "name": "stdout",
     "output_type": "stream",
     "text": [
      "['hello', 3, 'welcome'] \n",
      "\n",
      "hello is in dictionary\n"
     ]
    }
   ],
   "source": [
    "listOfKeys = []\n",
    "for item in pairs.keys() :\n",
    "    listOfKeys.append(item)\n",
    "\n",
    "print(f\"{listOfKeys} \\n\")\n",
    "\n",
    "if \"hello\" in poll_result :\n",
    "    print(f\"hello is in dictionary\")\n",
    "else :    \n",
    "    print(f\"hello not in dictionary\")\n"
   ]
  },
  {
   "cell_type": "markdown",
   "metadata": {},
   "source": [
    "### Exercise 6. \n",
    "Create a Test Scores program that gets the name of students and test score from a user. Then, generate a list of students who passed and a list of students who failed where passing test score is 60 or above. "
   ]
  },
  {
   "cell_type": "code",
   "execution_count": 19,
   "metadata": {},
   "outputs": [
    {
     "name": "stdout",
     "output_type": "stream",
     "text": [
      "Enter student name: Smith\n",
      "Enter Score: 90\n",
      "Do you want to continue (y/n)y\n",
      "Enter student name: John\n",
      "Enter Score: 70\n",
      "Do you want to continue (y/n)y\n",
      "Enter student name: james\n",
      "Enter Score: 50\n",
      "Do you want to continue (y/n)y\n",
      "Enter student name: jimmy\n",
      "Enter Score: 40\n",
      "Do you want to continue (y/n)n\n",
      "{'Smith': 90, 'John': 70, 'james': 50, 'jimmy': 40}\n",
      "List of passed students \n",
      "Smith passed\n",
      "John passed\n",
      "List of failed students \n",
      "james failed\n",
      "jimmy failed\n"
     ]
    }
   ],
   "source": [
    "scores = {}\n",
    "cont = 'y'\n",
    "while cont == 'y':\n",
    "    name = input (\"Enter student name: \")\n",
    "    sgrade = int(input (\"Enter Score: \"))\n",
    "    cont = input (\"Do you want to continue (y/n)\")\n",
    "    scores[name] = sgrade\n",
    "\n",
    "print (scores)\n",
    "\n",
    "print (\"List of passed students \")\n",
    "for item in scores.keys():\n",
    "    if scores[item] >= 60:\n",
    "        print (f\"{item} passed\")\n",
    "        \n",
    "print (\"List of failed students \")\n",
    "for item in scores.keys():\n",
    "    if scores[item] < 60:\n",
    "        print (f\"{item} failed\")        "
   ]
  },
  {
   "cell_type": "code",
   "execution_count": null,
   "metadata": {},
   "outputs": [],
   "source": []
  },
  {
   "cell_type": "markdown",
   "metadata": {},
   "source": [
    "### Exercise 7. \n",
    "\n",
    "Create a Word Counter program that gets a string of text from a user and then counts the number of times a word occrs in the string. \n",
    "\n",
    "The output should look something like this:\n",
    "\n",
    "    The Word Counter Program\n",
    "    \n",
    "    Enter a text string: \n",
    "    Humpty Dumpty sat on a wall, Humpty Dumpty had a great fall. All the king’s horses and all the king’s men couldn’t put Humpty together again.\n",
    "\n",
    "    a : 2\n",
    "    again : 1\n",
    "    all : 2\n",
    "    and : 1\n",
    "    couldn’t : 1\n",
    "    dumpty : 2\n",
    "    fall : 1\n",
    "    great : 1\n",
    "    had : 1\n",
    "    horses : 1\n",
    "    humpty : 3\n",
    "    king’s : 2\n",
    "    men : 1\n",
    "    on : 1\n",
    "    put : 1\n",
    "    sat : 1\n",
    "    the : 2\n",
    "    together : 1\n",
    "    wall : 1\n",
    "\n",
    "    There were total 26 words in the text string   "
   ]
  },
  {
   "cell_type": "code",
   "execution_count": 31,
   "metadata": {},
   "outputs": [
    {
     "name": "stdout",
     "output_type": "stream",
     "text": [
      "Enter a textHumpty Dumpty sat on a wall, Humpty Dumpty had a great fall. All the king’s horses and all the king’s men couldn’t put Humpty together again.\n",
      "\n",
      "Humpty : 3\n",
      "Dumpty : 2\n",
      "sat : 1\n",
      "on : 1\n",
      "a : 2\n",
      "wall, : 1\n",
      "had : 1\n",
      "great : 1\n",
      "fall. : 1\n",
      "All : 1\n",
      "the : 2\n",
      "king’s : 2\n",
      "horses : 1\n",
      "and : 1\n",
      "all : 1\n",
      "men : 1\n",
      "couldn’t : 1\n",
      "put : 1\n",
      "together : 1\n",
      "again. : 1\n",
      "\n",
      " Total words: 26\n"
     ]
    }
   ],
   "source": [
    "text =  input (\"Enter a text\")\n",
    "\n",
    "listOfWords = text.split()\n",
    "       \n",
    "poll_result = {}\n",
    "numOfWords = 0\n",
    "for item in listOfWords :\n",
    "    if item in poll_result :\n",
    "        poll_result[item] += 1\n",
    "    else :    \n",
    "        poll_result[item] = 1\n",
    "    \n",
    "    numOfWords += 1 \n",
    "\n",
    "print (\"\")\n",
    "\n",
    "for item in poll_result:\n",
    "    print (f\"{item} : {poll_result[item]}\")\n",
    "    \n",
    "print (f\"\\n Total words: {numOfWords}\")\n"
   ]
  },
  {
   "cell_type": "code",
   "execution_count": null,
   "metadata": {},
   "outputs": [],
   "source": []
  }
 ],
 "metadata": {
  "kernelspec": {
   "display_name": "Python 3",
   "language": "python",
   "name": "python3"
  },
  "language_info": {
   "codemirror_mode": {
    "name": "ipython",
    "version": 3
   },
   "file_extension": ".py",
   "mimetype": "text/x-python",
   "name": "python",
   "nbconvert_exporter": "python",
   "pygments_lexer": "ipython3",
   "version": "3.8.8"
  }
 },
 "nbformat": 4,
 "nbformat_minor": 4
}
